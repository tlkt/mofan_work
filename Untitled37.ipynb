{
  "nbformat": 4,
  "nbformat_minor": 0,
  "metadata": {
    "colab": {
      "name": "Untitled37.ipynb",
      "provenance": [],
      "authorship_tag": "ABX9TyPMGqitkvbx92f9jgWVx96n",
      "include_colab_link": true
    },
    "kernelspec": {
      "name": "python3",
      "display_name": "Python 3"
    },
    "accelerator": "GPU"
  },
  "cells": [
    {
      "cell_type": "markdown",
      "metadata": {
        "id": "view-in-github",
        "colab_type": "text"
      },
      "source": [
        "<a href=\"https://colab.research.google.com/github/tlkt/mofan_work/blob/master/Untitled37.ipynb\" target=\"_parent\"><img src=\"https://colab.research.google.com/assets/colab-badge.svg\" alt=\"Open In Colab\"/></a>"
      ]
    },
    {
      "cell_type": "code",
      "metadata": {
        "id": "peymroMn9MiN",
        "colab_type": "code",
        "colab": {}
      },
      "source": [
        "import torch\n",
        "from torch import nn, optim\n",
        "import torch.nn.functional as F\n",
        "import torch.utils.data as Data\n",
        "import numpy as np\n",
        "import pandas as pd\n",
        "import matplotlib.pyplot as plt\n",
        "import time\n",
        "import math"
      ],
      "execution_count": null,
      "outputs": []
    },
    {
      "cell_type": "code",
      "metadata": {
        "id": "1XepDAOP9g7g",
        "colab_type": "code",
        "colab": {}
      },
      "source": [
        "data = \"\"\n",
        "with open('input.txt','r') as f:\n",
        "    data = f.read()"
      ],
      "execution_count": null,
      "outputs": []
    },
    {
      "cell_type": "code",
      "metadata": {
        "id": "fUDVQWJF9mKZ",
        "colab_type": "code",
        "colab": {}
      },
      "source": [
        "data =data.replace('\\n',' ').replace('\\t',' ')\n",
        "data = data.lower()"
      ],
      "execution_count": null,
      "outputs": []
    },
    {
      "cell_type": "code",
      "metadata": {
        "id": "92fhZfBw9n1N",
        "colab_type": "code",
        "colab": {}
      },
      "source": [
        "data_indexs = list(set(data))"
      ],
      "execution_count": null,
      "outputs": []
    },
    {
      "cell_type": "code",
      "metadata": {
        "id": "eqdkoVkM9pBS",
        "colab_type": "code",
        "colab": {}
      },
      "source": [
        "data_indexs_len = len(data_indexs)"
      ],
      "execution_count": null,
      "outputs": []
    },
    {
      "cell_type": "code",
      "metadata": {
        "id": "prCpJyDe9qGx",
        "colab_type": "code",
        "colab": {}
      },
      "source": [
        "idx_to_char = dict([(char,i) for (char,i) in enumerate(data_indexs)])"
      ],
      "execution_count": null,
      "outputs": []
    },
    {
      "cell_type": "code",
      "metadata": {
        "id": "NCpzl91O9rKK",
        "colab_type": "code",
        "colab": {}
      },
      "source": [
        "char_to_idx = dict([(i,char) for (char,i) in enumerate(data_indexs)])"
      ],
      "execution_count": null,
      "outputs": []
    },
    {
      "cell_type": "code",
      "metadata": {
        "id": "sD8vrrmq9sAa",
        "colab_type": "code",
        "colab": {}
      },
      "source": [
        "datas = [char_to_idx[i] for i in data]"
      ],
      "execution_count": null,
      "outputs": []
    },
    {
      "cell_type": "code",
      "metadata": {
        "id": "tzJjOIlT9tXh",
        "colab_type": "code",
        "colab": {}
      },
      "source": [
        "def data_iter_consecutive(corpus_indices, batch_size, num_steps, device=None):\n",
        "    if device is None:\n",
        "        device = torch.device('cuda' if torch.cuda.is_available() else 'cpu')\n",
        "    corpus_indices = torch.tensor(corpus_indices, dtype=torch.float32, device=device)\n",
        "    data_len = len(corpus_indices)\n",
        "    batch_len = data_len // batch_size\n",
        "    indices = corpus_indices[0: batch_size * batch_len].view(batch_size, batch_len)\n",
        "    epoch_size = (batch_len - 1) // num_steps\n",
        "    for i in range(epoch_size):\n",
        "        i = i * num_steps\n",
        "        X = indices[:, i: i + num_steps]\n",
        "        Y = indices[:, i + 1: i + num_steps + 1]\n",
        "        yield X, Y\n",
        "\n",
        "def one_hot(x, n_class, dtype=torch.float32):\n",
        "    # X shape: (batch), output shape: (batch, n_class)\n",
        "    x = x.long()\n",
        "    res = torch.zeros(x.shape[0], n_class, dtype=dtype, device=x.device)\n",
        "    res.scatter_(1, x.view(-1, 1), 1)\n",
        "    return res\n",
        "\n",
        "\n",
        "# x = torch.tensor([0, 2])\n",
        "# print(oneHot(x, vocab_size).shape)\n",
        "def to_onehot(X, n_class):\n",
        "    return [one_hot(X[:, i], n_class) for i in range(X.shape[1])]"
      ],
      "execution_count": null,
      "outputs": []
    },
    {
      "cell_type": "code",
      "metadata": {
        "id": "ppuajBg29vaL",
        "colab_type": "code",
        "colab": {}
      },
      "source": [
        "class MyRNN(nn.Module):\n",
        "    def __init__(self,input_size,hidden_size,output_size):\n",
        "        super(MyRNN,self).__init__()\n",
        "        self.rnn = nn.RNN(input_size,hidden_size,1)\n",
        "        self.state = None\n",
        "        self.fc = nn.Linear(hidden_size,output_size)\n",
        "    \n",
        "    def forward(self,x,state):\n",
        "        out,state = self.rnn(x,state)\n",
        "#         self.state = state\n",
        "#         print(out.shape)\n",
        "#         print(out.view(-1,out.shape[-1]).shape)\n",
        "        y = self.fc(out.view(-1,out.shape[-1]))\n",
        "        return y,state"
      ],
      "execution_count": null,
      "outputs": []
    },
    {
      "cell_type": "code",
      "metadata": {
        "id": "tC35NqAs_neA",
        "colab_type": "code",
        "colab": {}
      },
      "source": [
        "def grad_clipping(params, theta, device):\n",
        "    norm = torch.tensor([0.0], device=device)\n",
        "    for param in params:\n",
        "        norm += (param.grad.data ** 2).sum()\n",
        "    norm = norm.sqrt().item()\n",
        "    if norm > theta:\n",
        "        for param in params:\n",
        "            param.grad.data *= (theta / norm)\n",
        "\n",
        "def predict_rnn_pytorch(prefix, num_chars, model, vocab_size, device, idx_to_char,\n",
        "                      char_to_idx):\n",
        "    state = None\n",
        "    output = [char_to_idx[prefix[0]]] # output会记录prefix加上输出\n",
        "    for t in range(num_chars + len(prefix) - 1):\n",
        "        X = torch.tensor([output[-1]], device=device).view(1, 1)\n",
        "        if state is not None:\n",
        "            if isinstance(state, tuple): # LSTM, state:(h, c)  \n",
        "                state = (state[0].to(device), state[1].to(device))\n",
        "            else:   \n",
        "                state = state.to(device)\n",
        "\n",
        "        (Y, state) = model(X, state)\n",
        "        if t < len(prefix) - 1:\n",
        "            output.append(char_to_idx[prefix[t + 1]])\n",
        "        else:\n",
        "            output.append(int(Y.argmax(dim=1).item()))\n",
        "    return ''.join([idx_to_char[i] for i in output])"
      ],
      "execution_count": null,
      "outputs": []
    },
    {
      "cell_type": "code",
      "metadata": {
        "id": "Hzv9I7G79xxQ",
        "colab_type": "code",
        "colab": {
          "base_uri": "https://localhost:8080/",
          "height": 187
        },
        "outputId": "b444ea3c-aa83-435f-e1ed-60797d9875e0"
      },
      "source": [
        "net = MyRNN(62,256,62)\n",
        "num_epochs = 20\n",
        "loss = nn.CrossEntropyLoss()\n",
        "device = torch.device('cuda' if torch.cuda.is_available() else 'cpu')\n",
        "net.to(device)\n",
        "optimizer = torch.optim.Adam(net.parameters(),lr=0.001)\n",
        "clipping_theta = 1e-2\n",
        "h_state = None\n",
        "start = time.time()\n",
        "prefixes = ['the']\n",
        "for epoch in range(num_epochs):\n",
        "    sum_l,n = 0,0\n",
        "    for x,y in data_iter_consecutive(datas,64,8):\n",
        "        # print(x.shape)\n",
        "        # break\n",
        "        x = to_onehot(x,data_indexs_len)\n",
        "        # print(x)\n",
        "        # print(len(x),x[0].shape)\n",
        "        x = torch.stack(x)\n",
        "        # print(x.shape)\n",
        "        y_hat,state = net(x,h_state)\n",
        "        h_state = state.data\n",
        "        y = torch.transpose(y,0,1).contiguous().view(-1)\n",
        "#         print(y_hat.shape)\n",
        "#         print(y.shape)\n",
        "#         print(len(y),y[0].shape)\n",
        "#         print(len(y_hat),y_hat[0].shape)\n",
        "#         print(y[0])\n",
        "#         print(y_hat[0])\n",
        "#         print(y.shape)\n",
        "#         print(y_hat.shpae)\n",
        "        l = loss(y_hat,y.long())\n",
        "        sum_l += l.item() * y.shape[0]\n",
        "        n += y.shape[0]\n",
        "        optimizer.zero_grad()\n",
        "        l.backward()\n",
        "        grad_clipping(net.parameters(), clipping_theta, device)\n",
        "        optimizer.step()\n",
        "        # break\n",
        "    # break\n",
        "    try:\n",
        "        perplexity = math.exp(sum_l / n)\n",
        "    except OverflowError:\n",
        "        perplexity = float('inf')\n",
        "    if (epoch + 1) % 2 == 0:\n",
        "        print('epoch %d, perplexity %f, time %.2f sec' % (\n",
        "            epoch + 1, perplexity, time.time() - start))\n"
      ],
      "execution_count": null,
      "outputs": [
        {
          "output_type": "stream",
          "text": [
            "epoch 2, perplexity 7.489207, time 5.61 sec\n",
            "epoch 4, perplexity 5.670624, time 11.15 sec\n",
            "epoch 6, perplexity 4.846766, time 16.74 sec\n",
            "epoch 8, perplexity 4.400741, time 22.34 sec\n",
            "epoch 10, perplexity 4.123339, time 27.96 sec\n",
            "epoch 12, perplexity 3.934912, time 33.55 sec\n",
            "epoch 14, perplexity 3.795709, time 39.24 sec\n",
            "epoch 16, perplexity 3.689772, time 44.80 sec\n",
            "epoch 18, perplexity 3.607950, time 50.38 sec\n",
            "epoch 20, perplexity 3.543721, time 55.98 sec\n"
          ],
          "name": "stdout"
        }
      ]
    },
    {
      "cell_type": "code",
      "metadata": {
        "id": "DWmNsdwU90tv",
        "colab_type": "code",
        "colab": {}
      },
      "source": [
        "\n",
        "  print(predict_rnn_pytorch(\n",
        "    \"creation\", 50, net, data_indexs_len, device, idx_to_char,\n",
        "      char_to_idx))"
      ],
      "execution_count": null,
      "outputs": []
    }
  ]
}