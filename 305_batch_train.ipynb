{
  "nbformat": 4,
  "nbformat_minor": 0,
  "metadata": {
    "colab": {
      "name": "305_batch_train.ipynb",
      "provenance": [],
      "collapsed_sections": [],
      "authorship_tag": "ABX9TyNXTSaydGN/XZkHhZWnSk2c",
      "include_colab_link": true
    },
    "kernelspec": {
      "name": "python3",
      "display_name": "Python 3"
    },
    "accelerator": "GPU"
  },
  "cells": [
    {
      "cell_type": "markdown",
      "metadata": {
        "id": "view-in-github",
        "colab_type": "text"
      },
      "source": [
        "<a href=\"https://colab.research.google.com/github/tlkt/mofan_work/blob/master/305_batch_train.ipynb\" target=\"_parent\"><img src=\"https://colab.research.google.com/assets/colab-badge.svg\" alt=\"Open In Colab\"/></a>"
      ]
    },
    {
      "cell_type": "code",
      "metadata": {
        "id": "L19tQPDF2ML6",
        "colab_type": "code",
        "colab": {}
      },
      "source": [
        "import torch\n",
        "import torch.utils.data as Data"
      ],
      "execution_count": 0,
      "outputs": []
    },
    {
      "cell_type": "code",
      "metadata": {
        "id": "OZ4jAGaO2T0r",
        "colab_type": "code",
        "colab": {}
      },
      "source": [
        "x = torch.linspace(1,10,10)\n",
        "y = torch.linspace(10,1,10)\n"
      ],
      "execution_count": 0,
      "outputs": []
    },
    {
      "cell_type": "code",
      "metadata": {
        "id": "akT4ZyI_2Zly",
        "colab_type": "code",
        "colab": {}
      },
      "source": [
        "BATCH_SIZE=5"
      ],
      "execution_count": 0,
      "outputs": []
    },
    {
      "cell_type": "code",
      "metadata": {
        "id": "zSFTtfoz2bly",
        "colab_type": "code",
        "colab": {}
      },
      "source": [
        "torch_dataset = Data.TensorDataset(x,y)"
      ],
      "execution_count": 0,
      "outputs": []
    },
    {
      "cell_type": "code",
      "metadata": {
        "id": "euj4Cip12hqh",
        "colab_type": "code",
        "colab": {}
      },
      "source": [
        "loader = Data.DataLoader(\n",
        "    dataset = torch_dataset,\n",
        "    batch_size = BATCH_SIZE,\n",
        "    shuffle = True,\n",
        "    num_workers = 2\n",
        ")"
      ],
      "execution_count": 0,
      "outputs": []
    },
    {
      "cell_type": "code",
      "metadata": {
        "id": "eipqsRlE2u6I",
        "colab_type": "code",
        "colab": {
          "base_uri": "https://localhost:8080/",
          "height": 119
        },
        "outputId": "6be1d369-47c2-4ff6-9fab-3e16d16a23b1"
      },
      "source": [
        "for epoch in range(3):\n",
        "  for step,(batch_x,batch_y) in enumerate(loader):\n",
        "      print('Epoch: ', epoch, '| Step: ', step, '| batch x: ',batch_x.numpy(), '| batch y: ', batch_y.numpy())"
      ],
      "execution_count": 7,
      "outputs": [
        {
          "output_type": "stream",
          "text": [
            "Epoch:  0 | Step:  0 | batch x:  [ 8.  7.  4. 10.  6.] | batch y:  [3. 4. 7. 1. 5.]\n",
            "Epoch:  0 | Step:  1 | batch x:  [3. 5. 1. 9. 2.] | batch y:  [ 8.  6. 10.  2.  9.]\n",
            "Epoch:  1 | Step:  0 | batch x:  [2. 3. 8. 9. 6.] | batch y:  [9. 8. 3. 2. 5.]\n",
            "Epoch:  1 | Step:  1 | batch x:  [ 4.  5. 10.  1.  7.] | batch y:  [ 7.  6.  1. 10.  4.]\n",
            "Epoch:  2 | Step:  0 | batch x:  [6. 9. 7. 1. 8.] | batch y:  [ 5.  2.  4. 10.  3.]\n",
            "Epoch:  2 | Step:  1 | batch x:  [ 5.  4.  3. 10.  2.] | batch y:  [6. 7. 8. 1. 9.]\n"
          ],
          "name": "stdout"
        }
      ]
    },
    {
      "cell_type": "code",
      "metadata": {
        "id": "M8xQr9Uk26bH",
        "colab_type": "code",
        "colab": {}
      },
      "source": [
        ""
      ],
      "execution_count": 0,
      "outputs": []
    }
  ]
}