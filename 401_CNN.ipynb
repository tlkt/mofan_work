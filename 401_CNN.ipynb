{
  "nbformat": 4,
  "nbformat_minor": 0,
  "metadata": {
    "colab": {
      "name": "401_CNN.ipynb",
      "provenance": [],
      "authorship_tag": "ABX9TyMR2BWjCcfHzCRmyCRJqvh8",
      "include_colab_link": true
    },
    "kernelspec": {
      "name": "python3",
      "display_name": "Python 3"
    },
    "accelerator": "GPU"
  },
  "cells": [
    {
      "cell_type": "markdown",
      "metadata": {
        "id": "view-in-github",
        "colab_type": "text"
      },
      "source": [
        "<a href=\"https://colab.research.google.com/github/tlkt/mofan_work/blob/master/401_CNN.ipynb\" target=\"_parent\"><img src=\"https://colab.research.google.com/assets/colab-badge.svg\" alt=\"Open In Colab\"/></a>"
      ]
    },
    {
      "cell_type": "code",
      "metadata": {
        "id": "NhzKYfIhu73H",
        "colab_type": "code",
        "colab": {}
      },
      "source": [
        "import torch\n",
        "import torch.nn as nn\n",
        "import torch.utils.data as Data\n",
        "import torchvision\n",
        "import matplotlib.pyplot as plt\n",
        "from torch.autograd import Variable\n",
        "import os"
      ],
      "execution_count": 0,
      "outputs": []
    },
    {
      "cell_type": "code",
      "metadata": {
        "id": "LhRvdx6wvEWs",
        "colab_type": "code",
        "colab": {}
      },
      "source": [
        "EPOCH=1\n",
        "BATCH_SIZE=50\n",
        "LR=0.001\n",
        "DOWNLOAD_MNIST = False"
      ],
      "execution_count": 0,
      "outputs": []
    },
    {
      "cell_type": "code",
      "metadata": {
        "id": "qD1dozOPwI79",
        "colab_type": "code",
        "colab": {}
      },
      "source": [
        "if not(os.path.exists('./mnist')) or not os.listdir('./mnist'):\n",
        "  DOWNLOAD_MNIST = True"
      ],
      "execution_count": 0,
      "outputs": []
    },
    {
      "cell_type": "code",
      "metadata": {
        "id": "j1afN4Lywfov",
        "colab_type": "code",
        "colab": {}
      },
      "source": [
        "train_data = torchvision.datasets.MNIST(\n",
        "    root='./mnist',\n",
        "    train=True,\n",
        "    transform=torchvision.transforms.ToTensor(),\n",
        "    download = DOWNLOAD_MNIST\n",
        ")"
      ],
      "execution_count": 0,
      "outputs": []
    },
    {
      "cell_type": "code",
      "metadata": {
        "id": "PQpU7gLdxAyZ",
        "colab_type": "code",
        "colab": {
          "base_uri": "https://localhost:8080/",
          "height": 68
        },
        "outputId": "b6cc2797-f338-42ef-a0d5-eb788c68d4b5"
      },
      "source": [
        "print(train_data.train_data.size())"
      ],
      "execution_count": 34,
      "outputs": [
        {
          "output_type": "stream",
          "text": [
            "torch.Size([60000, 28, 28])\n"
          ],
          "name": "stdout"
        },
        {
          "output_type": "stream",
          "text": [
            "/usr/local/lib/python3.6/dist-packages/torchvision/datasets/mnist.py:55: UserWarning: train_data has been renamed data\n",
            "  warnings.warn(\"train_data has been renamed data\")\n"
          ],
          "name": "stderr"
        }
      ]
    },
    {
      "cell_type": "code",
      "metadata": {
        "id": "txm1m5nfxPwg",
        "colab_type": "code",
        "colab": {
          "base_uri": "https://localhost:8080/",
          "height": 366
        },
        "outputId": "65bcdf94-063a-4c86-b26a-a4d0f31d70d5"
      },
      "source": [
        "print(train_data.train_labels.size())\n",
        "plt.imshow(train_data.train_data[0].numpy(),cmap='gray')\n",
        "plt.title('%i' %train_data.train_labels[0])\n",
        "plt.show()"
      ],
      "execution_count": 35,
      "outputs": [
        {
          "output_type": "stream",
          "text": [
            "torch.Size([60000])\n"
          ],
          "name": "stdout"
        },
        {
          "output_type": "stream",
          "text": [
            "/usr/local/lib/python3.6/dist-packages/torchvision/datasets/mnist.py:45: UserWarning: train_labels has been renamed targets\n",
            "  warnings.warn(\"train_labels has been renamed targets\")\n",
            "/usr/local/lib/python3.6/dist-packages/torchvision/datasets/mnist.py:55: UserWarning: train_data has been renamed data\n",
            "  warnings.warn(\"train_data has been renamed data\")\n"
          ],
          "name": "stderr"
        },
        {
          "output_type": "display_data",
          "data": {
            "image/png": "[encoded data removed]",
            "text/plain": [
              "<Figure size 432x288 with 1 Axes>"
            ]
          },
          "metadata": {
            "tags": []
          }
        }
      ]
    },
    {
      "cell_type": "code",
      "metadata": {
        "id": "BWFAvpsbxmkG",
        "colab_type": "code",
        "colab": {}
      },
      "source": [
        "train_loader = Data.DataLoader(dataset=train_data,batch_size=BATCH_SIZE,shuffle=True)\n"
      ],
      "execution_count": 0,
      "outputs": []
    },
    {
      "cell_type": "code",
      "metadata": {
        "id": "J8B4XTkwyFDz",
        "colab_type": "code",
        "colab": {}
      },
      "source": [
        "test_data = torchvision.datasets.MNIST(root='./mnist',train=False)"
      ],
      "execution_count": 0,
      "outputs": []
    },
    {
      "cell_type": "code",
      "metadata": {
        "id": "inR57LFoyZV6",
        "colab_type": "code",
        "colab": {
          "base_uri": "https://localhost:8080/",
          "height": 51
        },
        "outputId": "565fca0b-7177-4b92-dff0-8518504b9a24"
      },
      "source": [
        "test_x = torch.unsqueeze(test_data.test_data,dim=1).type(torch.FloatTensor)[:2000]/255"
      ],
      "execution_count": 38,
      "outputs": [
        {
          "output_type": "stream",
          "text": [
            "/usr/local/lib/python3.6/dist-packages/torchvision/datasets/mnist.py:60: UserWarning: test_data has been renamed data\n",
            "  warnings.warn(\"test_data has been renamed data\")\n"
          ],
          "name": "stderr"
        }
      ]
    },
    {
      "cell_type": "code",
      "metadata": {
        "id": "8VvwykXRyohR",
        "colab_type": "code",
        "colab": {
          "base_uri": "https://localhost:8080/",
          "height": 51
        },
        "outputId": "eed345d9-93fa-441e-da43-825ada18ee85"
      },
      "source": [
        "test_y = test_data.test_labels[:2000]"
      ],
      "execution_count": 39,
      "outputs": [
        {
          "output_type": "stream",
          "text": [
            "/usr/local/lib/python3.6/dist-packages/torchvision/datasets/mnist.py:50: UserWarning: test_labels has been renamed targets\n",
            "  warnings.warn(\"test_labels has been renamed targets\")\n"
          ],
          "name": "stderr"
        }
      ]
    },
    {
      "cell_type": "code",
      "metadata": {
        "id": "8GoKMiM7yx6e",
        "colab_type": "code",
        "colab": {}
      },
      "source": [
        "class CNN(nn.Module):\n",
        "  def __init__(self):\n",
        "    super(CNN,self).__init__()\n",
        "    self.Conv1 = nn.Sequential(\n",
        "        nn.Conv2d(\n",
        "            in_channels = 1,\n",
        "            out_channels = 16,\n",
        "            kernel_size=5,\n",
        "            stride = 1,\n",
        "            padding = 2,\n",
        "        ),\n",
        "        nn.ReLU(),\n",
        "        nn.MaxPool2d(2)\n",
        "    )\n",
        "    self.Conv2 = nn.Sequential(\n",
        "        nn.Conv2d(\n",
        "            in_channels=16,\n",
        "            out_channels=32,\n",
        "            kernel_size=5,\n",
        "            stride=1,\n",
        "            padding=2\n",
        "        ),\n",
        "        nn.ReLU(),\n",
        "        nn.MaxPool2d(2)\n",
        "    )\n",
        "    self.out = nn.Linear(32*7*7,10)\n",
        "\n",
        "  def forward(self,x):\n",
        "    x = self.Conv1(x)\n",
        "    x = self.Conv2(x)\n",
        "    x = x.view(x.size(0),-1)\n",
        "    out = self.out(x)\n",
        "    return out,x"
      ],
      "execution_count": 0,
      "outputs": []
    },
    {
      "cell_type": "code",
      "metadata": {
        "id": "TO8EVyh90EE9",
        "colab_type": "code",
        "colab": {
          "base_uri": "https://localhost:8080/",
          "height": 238
        },
        "outputId": "d4433e84-e674-42a9-846a-fa8843db9dc1"
      },
      "source": [
        "cnn = CNN()\n",
        "cnn"
      ],
      "execution_count": 60,
      "outputs": [
        {
          "output_type": "execute_result",
          "data": {
            "text/plain": [
              "CNN(\n",
              "  (Conv1): Sequential(\n",
              "    (0): Conv2d(1, 16, kernel_size=(5, 5), stride=(1, 1), padding=(2, 2))\n",
              "    (1): ReLU()\n",
              "    (2): MaxPool2d(kernel_size=2, stride=2, padding=0, dilation=1, ceil_mode=False)\n",
              "  )\n",
              "  (Conv2): Sequential(\n",
              "    (0): Conv2d(16, 32, kernel_size=(5, 5), stride=(1, 1), padding=(2, 2))\n",
              "    (1): ReLU()\n",
              "    (2): MaxPool2d(kernel_size=2, stride=2, padding=0, dilation=1, ceil_mode=False)\n",
              "  )\n",
              "  (out): Linear(in_features=1568, out_features=10, bias=True)\n",
              ")"
            ]
          },
          "metadata": {
            "tags": []
          },
          "execution_count": 60
        }
      ]
    },
    {
      "cell_type": "code",
      "metadata": {
        "id": "bfaBn-eK0qcV",
        "colab_type": "code",
        "colab": {}
      },
      "source": [
        "optimizer = torch.optim.Adam(cnn.parameters(),lr=LR)\n",
        "loss_func = nn.CrossEntropyLoss()"
      ],
      "execution_count": 0,
      "outputs": []
    },
    {
      "cell_type": "code",
      "metadata": {
        "id": "vQaZCZFD0_Q4",
        "colab_type": "code",
        "colab": {}
      },
      "source": [
        "# following function (plot_with_labels) is for visualization, can be ignored if not interested\n",
        "from matplotlib import cm\n",
        "try: from sklearn.manifold import TSNE; HAS_SK = True\n",
        "except: HAS_SK = False; print('Please install sklearn for layer visualization')\n",
        "def plot_with_labels(lowDWeights, labels):\n",
        "    plt.cla()\n",
        "    X, Y = lowDWeights[:, 0], lowDWeights[:, 1]\n",
        "    for x, y, s in zip(X, Y, labels):\n",
        "        c = cm.rainbow(int(255 * s / 9)); plt.text(x, y, s, backgroundcolor=c, fontsize=9)\n",
        "    plt.xlim(X.min(), X.max()); plt.ylim(Y.min(), Y.max()); plt.title('Visualize last layer'); plt.show(); plt.pause(0.01)\n"
      ],
      "execution_count": 0,
      "outputs": []
    },
    {
      "cell_type": "code",
      "metadata": {
        "id": "BajnNrc51DtK",
        "colab_type": "code",
        "colab": {}
      },
      "source": [
        "plt.ion()"
      ],
      "execution_count": 0,
      "outputs": []
    },
    {
      "cell_type": "code",
      "metadata": {
        "id": "9W-pfHTh1GGD",
        "colab_type": "code",
        "colab": {
          "base_uri": "https://localhost:8080/",
          "height": 425
        },
        "outputId": "0b889a3f-bdd7-45ed-8838-73183a8687cb"
      },
      "source": [
        "for epoch in range(EPOCH):\n",
        "  for step,(b_x,b_y) in enumerate(train_loader):\n",
        "      output = cnn(b_x)[0]\n",
        "      loss = loss_func(output,b_y)\n",
        "      optimizer.zero_grad()\n",
        "      loss.backward()\n",
        "      optimizer.step()\n",
        "      if step % 50 == 0:\n",
        "        test_output, last_layer = cnn(test_x)\n",
        "        pred_y = torch.max(test_output, 1)[1].data.numpy()\n",
        "        accuracy = float((pred_y == test_y.data.numpy()).astype(int).sum()) / float(test_y.size(0))\n",
        "        print('Epoch: ', epoch, '| train loss: %.4f' % loss.data.numpy(), '| test accuracy: %.2f' % accuracy)\n",
        "\n",
        "plt.ioff()"
      ],
      "execution_count": 65,
      "outputs": [
        {
          "output_type": "stream",
          "text": [
            "Epoch:  0 | train loss: 2.3180 | test accuracy: 0.16\n",
            "Epoch:  0 | train loss: 0.5207 | test accuracy: 0.82\n",
            "Epoch:  0 | train loss: 0.2111 | test accuracy: 0.86\n",
            "Epoch:  0 | train loss: 0.3248 | test accuracy: 0.91\n",
            "Epoch:  0 | train loss: 0.3939 | test accuracy: 0.93\n",
            "Epoch:  0 | train loss: 0.3312 | test accuracy: 0.94\n",
            "Epoch:  0 | train loss: 0.1373 | test accuracy: 0.95\n",
            "Epoch:  0 | train loss: 0.0507 | test accuracy: 0.95\n",
            "Epoch:  0 | train loss: 0.0753 | test accuracy: 0.96\n",
            "Epoch:  0 | train loss: 0.1605 | test accuracy: 0.96\n",
            "Epoch:  0 | train loss: 0.1427 | test accuracy: 0.97\n",
            "Epoch:  0 | train loss: 0.1044 | test accuracy: 0.97\n",
            "Epoch:  0 | train loss: 0.1104 | test accuracy: 0.97\n",
            "Epoch:  0 | train loss: 0.2011 | test accuracy: 0.97\n",
            "Epoch:  0 | train loss: 0.1286 | test accuracy: 0.98\n",
            "Epoch:  0 | train loss: 0.1225 | test accuracy: 0.97\n",
            "Epoch:  0 | train loss: 0.0518 | test accuracy: 0.97\n",
            "Epoch:  0 | train loss: 0.0898 | test accuracy: 0.97\n",
            "Epoch:  0 | train loss: 0.1067 | test accuracy: 0.97\n",
            "Epoch:  0 | train loss: 0.0629 | test accuracy: 0.98\n",
            "Epoch:  0 | train loss: 0.0202 | test accuracy: 0.98\n",
            "Epoch:  0 | train loss: 0.0460 | test accuracy: 0.97\n",
            "Epoch:  0 | train loss: 0.0079 | test accuracy: 0.97\n",
            "Epoch:  0 | train loss: 0.0537 | test accuracy: 0.97\n"
          ],
          "name": "stdout"
        }
      ]
    },
    {
      "cell_type": "code",
      "metadata": {
        "id": "n33wMIUw19uq",
        "colab_type": "code",
        "colab": {
          "base_uri": "https://localhost:8080/",
          "height": 51
        },
        "outputId": "26f3d746-15df-4e1a-fd22-08779689bd58"
      },
      "source": [
        "# print 10 predictions from test data\n",
        "test_output, _ = cnn(test_x[:10])\n",
        "pred_y = torch.max(test_output, 1)[1].data.numpy()\n",
        "print(pred_y, 'prediction number')\n",
        "print(test_y[:10].numpy(), 'real number')"
      ],
      "execution_count": 66,
      "outputs": [
        {
          "output_type": "stream",
          "text": [
            "[7 2 1 0 4 1 4 9 5 9] prediction number\n",
            "[7 2 1 0 4 1 4 9 5 9] real number\n"
          ],
          "name": "stdout"
        }
      ]
    },
    {
      "cell_type": "code",
      "metadata": {
        "id": "iOxZNL4y4XLK",
        "colab_type": "code",
        "colab": {}
      },
      "source": [
        ""
      ],
      "execution_count": 0,
      "outputs": []
    }
  ]
}